{
 "cells": [
  {
   "cell_type": "code",
   "execution_count": 41,
   "metadata": {},
   "outputs": [],
   "source": [
    "from astroquery.jplhorizons import Horizons\n",
    "import numpy as np"
   ]
  },
  {
   "cell_type": "code",
   "execution_count": 18,
   "metadata": {},
   "outputs": [],
   "source": [
    "cometId = \"C/2019 Y4\"\n",
    "\n",
    "# Date in YYYY-MM-DD\n",
    "startDate = \"2020-03-10\"\n",
    "stopDate = \"2020-03-11\"\n",
    "\n",
    "# Measure for both the sun and from earth so we can get phase angles\n",
    "\n",
    "# Sun\n",
    "cometEphem_sun = Horizons(id=cometId, location=\"500@10\", id_type=\"name\", epochs={'start':startDate, 'stop':stopDate, 'step':'12h'})\n",
    "\n",
    "# Earth\n",
    "cometEphem_earth = Horizons(id=cometId, location=\"500@3\", id_type=\"name\", epochs={'start':startDate, 'stop':stopDate, 'step':'12h'})"
   ]
  },
  {
   "cell_type": "code",
   "execution_count": 20,
   "metadata": {},
   "outputs": [],
   "source": [
    "sunVectors = cometEphem_sun.vectors()\n",
    "earthVectors = cometEphem_earth.vectors()"
   ]
  },
  {
   "cell_type": "code",
   "execution_count": 25,
   "metadata": {},
   "outputs": [
    {
     "name": "stdout",
     "output_type": "stream",
     "text": [
      "DISTANCES:\n",
      "Earth:       range      \n",
      "        AU       \n",
      "-----------------\n",
      " 1.15034700701652\n",
      "1.146856731893997\n",
      "1.143433146440552\n",
      "Sun:       range      \n",
      "        AU       \n",
      "-----------------\n",
      "1.855791792658393\n",
      "1.847498988629126\n",
      "1.839190442629375\n"
     ]
    }
   ],
   "source": [
    "# Distances\n",
    "heliocentricDistance = sunVectors[\"range\"]\n",
    "earthDistance = earthVectors[\"range\"]\n",
    "\n",
    "print(\"DISTANCES:\")\n",
    "print(f\"Earth: {earthDistance}\")\n",
    "print(f\"Sun: {heliocentricDistance}\")"
   ]
  },
  {
   "cell_type": "code",
   "execution_count": 57,
   "metadata": {},
   "outputs": [
    {
     "name": "stdout",
     "output_type": "stream",
     "text": [
      "         x         \n",
      "         AU        \n",
      "-------------------\n",
      "-0.9767925682850543\n",
      "-0.9784479526478955\n",
      "-0.9800299379482721         y         \n",
      "        AU        \n",
      "------------------\n",
      "0.1791801564304172\n",
      "0.1706838840159786\n",
      "0.1621747169752707           z           \n",
      "          AU          \n",
      "----------------------\n",
      "-8.177664507572475e-06\n",
      "-7.829216414985742e-06\n",
      "-7.438432048638612e-06\n",
      "        x         \n",
      "        AU        \n",
      "------------------\n",
      "-1.447311196357686\n",
      "-1.441260529178061\n",
      "-1.435192954764013         y         \n",
      "        AU        \n",
      "------------------\n",
      "0.7797383578926711\n",
      "0.7735107643625386\n",
      "0.7672740976364831         z         \n",
      "        AU        \n",
      "------------------\n",
      "0.8609654881740484\n",
      "0.8588956266242701\n",
      "0.8568156896037199\n"
     ]
    }
   ],
   "source": [
    "print(earthPos[\"x\"], earthPos[\"y\"], earthPos[\"z\"])\n",
    "print(cometPos[\"x\"], cometPos[\"y\"], cometPos[\"z\"])"
   ]
  },
  {
   "cell_type": "code",
   "execution_count": 67,
   "metadata": {},
   "outputs": [
    {
     "name": "stdout",
     "output_type": "stream",
     "text": [
      "Phase Angle: 108.31960529424315 degrees\n",
      "Phase Angle: 107.20240892836394 degrees\n",
      "Phase Angle: 106.09249420880683 degrees\n"
     ]
    }
   ],
   "source": [
    "# Determine phase angle from position of the sun, earth, and comet\n",
    "\n",
    "# Everything in reference frame of the sun\n",
    "sunPos = Horizons(id=\"sun\", location=\"500@10\", epochs={'start':startDate, 'stop':stopDate, 'step':'12h'}).vectors()\n",
    "earthPos = Horizons(id=\"399\", location=\"500@10\", epochs={'start':startDate, 'stop':stopDate, 'step':'12h'}).vectors()\n",
    "\n",
    "cometPos = sunVectors\n",
    "\n",
    "cometSunVector = [-cometPos[\"x\"], -cometPos[\"y\"], -cometPos[\"z\"]] # sunPos is 0, 0, 0, hence the position of the comet is the vector from the sun to the comet\n",
    "cometEarthVector = [earthPos[\"x\"] - cometPos[\"x\"], earthPos[\"y\"] - cometPos[\"y\"], earthPos[\"z\"] - cometPos[\"z\"]]\n",
    "\n",
    "# Phase angle is calculated from the dot product of these two vectors\n",
    "for timeRowA, timeRowB in zip(np.transpose(cometSunVector), np.transpose(cometEarthVector)):\n",
    "    dotProduct = np.dot(timeRowA, timeRowB)\n",
    "\n",
    "    # convert to degrees\n",
    "    phaseAngle = dotProduct * 180 / np.pi\n",
    "\n",
    "    print(f\"Phase Angle: {phaseAngle} degrees\")"
   ]
  }
 ],
 "metadata": {
  "kernelspec": {
   "display_name": "cometPy",
   "language": "python",
   "name": "python3"
  },
  "language_info": {
   "codemirror_mode": {
    "name": "ipython",
    "version": 3
   },
   "file_extension": ".py",
   "mimetype": "text/x-python",
   "name": "python",
   "nbconvert_exporter": "python",
   "pygments_lexer": "ipython3",
   "version": "3.11.6"
  }
 },
 "nbformat": 4,
 "nbformat_minor": 2
}
