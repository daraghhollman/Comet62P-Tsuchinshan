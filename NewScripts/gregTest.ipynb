{
 "cells": [
  {
   "cell_type": "code",
   "execution_count": 1,
   "metadata": {},
   "outputs": [],
   "source": [
    "from astropy.io import fits\n",
    "from glob import glob\n",
    "import cometToolkit as ctk\n",
    "import matplotlib.pyplot as plt"
   ]
  },
  {
   "cell_type": "code",
   "execution_count": 3,
   "metadata": {},
   "outputs": [],
   "source": [
    "ctk.ReduceImage(\"../../greg/gregData.fits\", \"../../greg/output.fits\", \"../../greg/gregBias.fits\",\n",
    "                                                                      \"../../greg/gregDark.fits\",\n",
    "                                                                      \"../../greg/gregFlat.fits\")"
   ]
  }
 ],
 "metadata": {
  "kernelspec": {
   "display_name": "cometPy",
   "language": "python",
   "name": "python3"
  },
  "language_info": {
   "codemirror_mode": {
    "name": "ipython",
    "version": 3
   },
   "file_extension": ".py",
   "mimetype": "text/x-python",
   "name": "python",
   "nbconvert_exporter": "python",
   "pygments_lexer": "ipython3",
   "version": "3.12.0"
  }
 },
 "nbformat": 4,
 "nbformat_minor": 2
}
