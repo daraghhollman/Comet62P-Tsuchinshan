{
 "cells": [
  {
   "cell_type": "code",
   "execution_count": null,
   "metadata": {},
   "outputs": [],
   "source": [
    "from astropy.io import fits\n",
    "from astropy.wcs import WCS\n",
    "from glob import glob\n",
    "from natsort import natsorted\n",
    "\n",
    "import matplotlib.pyplot as plt\n",
    "import matplotlib.colors as colors\n",
    "\n",
    "import numpy as np\n",
    "\n",
    "from matplotlib.colors import LogNorm\n",
    "\n",
    "from photutils.detection import DAOStarFinder\n",
    "from photutils.aperture import CircularAperture, aperture_photometry\n",
    "from photutils.background import Background2D\n",
    "\n",
    "from astropy.stats import mad_std\n",
    "\n",
    "import cometToolkit as ctk\n",
    "\n",
    "from astropy.nddata import Cutout2D"
   ]
  }
 ],
 "metadata": {
  "language_info": {
   "name": "python"
  }
 },
 "nbformat": 4,
 "nbformat_minor": 2
}
