{
 "cells": [
  {
   "cell_type": "code",
   "execution_count": 2,
   "metadata": {},
   "outputs": [],
   "source": [
    "from astropy.io import fits\n",
    "from astropy.wcs import WCS\n",
    "from glob import glob\n",
    "import matplotlib.pyplot as plt\n",
    "import numpy as np\n",
    "\n",
    "from matplotlib.colors import LogNorm\n",
    "\n",
    "from photutils.detection import DAOStarFinder"
   ]
  },
  {
   "cell_type": "code",
   "execution_count": 3,
   "metadata": {},
   "outputs": [],
   "source": [
    "rootPath = \"/home/daraghhollman/Main/CometsThesis/\"\n",
    "\n",
    "path=\"Comet 2019/march09/GG495/\""
   ]
  },
  {
   "cell_type": "code",
   "execution_count": 8,
   "metadata": {},
   "outputs": [
    {
     "name": "stdout",
     "output_type": "stream",
     "text": [
      "['/home/daraghhollman/Main/CometsThesis/Comet 2019/march09/GG495/ucdM_0434.fits', '/home/daraghhollman/Main/CometsThesis/Comet 2019/march09/GG495/ucdM_0436.fits', '/home/daraghhollman/Main/CometsThesis/Comet 2019/march09/GG495/ucdM_0438.fits', '/home/daraghhollman/Main/CometsThesis/Comet 2019/march09/GG495/ucdM_0440.fits']\n",
      "GG495\n",
      "150.0\n",
      "2020-03-10T03:52:11\n",
      "GG495\n",
      "150.0\n",
      "2020-03-10T03:59:39\n",
      "GG495\n",
      "150.0\n",
      "2020-03-10T04:05:46\n",
      "GG495\n",
      "150.0\n",
      "2020-03-10T04:12:44\n"
     ]
    }
   ],
   "source": [
    "fitsFiles = glob(rootPath + path + \"*\")\n",
    "fitsFiles.sort()\n",
    "print(fitsFiles)\n",
    "\n",
    "for f in fitsFiles:\n",
    "    print(fits.open(f)[0].header[\"FILTER\"])\n",
    "    print(fits.open(f)[0].header[\"EXPTIME\"])\n",
    "    print(fits.open(f)[0].header[\"DATE\"])"
   ]
  },
  {
   "cell_type": "code",
   "execution_count": 23,
   "metadata": {},
   "outputs": [
    {
     "name": "stdout",
     "output_type": "stream",
     "text": [
      "FITS image saved to: /home/daraghhollman/Main/CometsThesis/Comet 2019/CroppedImages/march09/ucdM_0432.fits\n",
      "FITS image saved to: /home/daraghhollman/Main/CometsThesis/Comet 2019/CroppedImages/march09/ucdM_0435.fits\n",
      "FITS image saved to: /home/daraghhollman/Main/CometsThesis/Comet 2019/CroppedImages/march09/ucdM_0437.fits\n",
      "FITS image saved to: /home/daraghhollman/Main/CometsThesis/Comet 2019/CroppedImages/march09/ucdM_0439.fits\n"
     ]
    }
   ],
   "source": [
    "# Crop Images\n",
    "\n",
    "def CropImages(fitsPaths, outputDirectory, croppingBounds):\n",
    "    lowerX, upperX, lowerY, upperY = croppingBounds\n",
    "\n",
    "    for path in fitsPaths:\n",
    "\n",
    "        fitsFile = fits.open(path)\n",
    "\n",
    "        image = fitsFile[0].data\n",
    "\n",
    "        newFits = fits.PrimaryHDU()\n",
    "        newFits.data = image[lowerY:upperY, lowerX:upperX]\n",
    "        newFits.header = fitsFile[0].header\n",
    "\n",
    "        outputPath = outputDirectory + path.split(\"/\")[-1]\n",
    "\n",
    "        newFits.writeto(outputPath, overwrite=True)\n",
    "        print(f\"FITS image saved to: {outputPath}\")\n",
    "\n",
    "    \n",
    "CropImages(fitsFiles, rootPath + \"Comet 2019/CroppedImages/march09/\", [500, -700, 600, -600])"
   ]
  },
  {
   "cell_type": "code",
   "execution_count": 24,
   "metadata": {},
   "outputs": [
    {
     "name": "stdout",
     "output_type": "stream",
     "text": [
      "['/home/daraghhollman/Main/CometsThesis/Comet 2019/CroppedImages/march09/ucdM_0432.fits', '/home/daraghhollman/Main/CometsThesis/Comet 2019/CroppedImages/march09/ucdM_0433.fits', '/home/daraghhollman/Main/CometsThesis/Comet 2019/CroppedImages/march09/ucdM_0434.fits', '/home/daraghhollman/Main/CometsThesis/Comet 2019/CroppedImages/march09/ucdM_0435.fits', '/home/daraghhollman/Main/CometsThesis/Comet 2019/CroppedImages/march09/ucdM_0436.fits', '/home/daraghhollman/Main/CometsThesis/Comet 2019/CroppedImages/march09/ucdM_0437.fits', '/home/daraghhollman/Main/CometsThesis/Comet 2019/CroppedImages/march09/ucdM_0438.fits', '/home/daraghhollman/Main/CometsThesis/Comet 2019/CroppedImages/march09/ucdM_0439.fits', '/home/daraghhollman/Main/CometsThesis/Comet 2019/CroppedImages/march09/ucdM_0440.fits']\n"
     ]
    }
   ],
   "source": [
    "croppedImages = glob(rootPath + \"Comet 2019/CroppedImages/march09/*\")\n",
    "croppedImages.sort()\n",
    "print(croppedImages)"
   ]
  },
  {
   "cell_type": "code",
   "execution_count": 25,
   "metadata": {},
   "outputs": [
    {
     "ename": "FileNotFoundError",
     "evalue": "[Errno 2] No such file or directory: '/home/daraghhollman/Main/CometsThesis/Comet 2019/wcs.fits'",
     "output_type": "error",
     "traceback": [
      "\u001b[0;31m---------------------------------------------------------------------------\u001b[0m",
      "\u001b[0;31mFileNotFoundError\u001b[0m                         Traceback (most recent call last)",
      "\u001b[1;32m/home/daraghhollman/Main/CometsThesis/Python/fitsCropping.ipynb Cell 6\u001b[0m line \u001b[0;36m1\n\u001b[1;32m      <a href='vscode-notebook-cell:/home/daraghhollman/Main/CometsThesis/Python/fitsCropping.ipynb#W5sZmlsZQ%3D%3D?line=7'>8</a>\u001b[0m     stackedImage \u001b[39m+\u001b[39m\u001b[39m=\u001b[39m image\n\u001b[1;32m     <a href='vscode-notebook-cell:/home/daraghhollman/Main/CometsThesis/Python/fitsCropping.ipynb#W5sZmlsZQ%3D%3D?line=9'>10</a>\u001b[0m wcsFile \u001b[39m=\u001b[39m rootPath \u001b[39m+\u001b[39m \u001b[39m\"\u001b[39m\u001b[39mComet 2019/wcs.fits\u001b[39m\u001b[39m\"\u001b[39m\n\u001b[0;32m---> <a href='vscode-notebook-cell:/home/daraghhollman/Main/CometsThesis/Python/fitsCropping.ipynb#W5sZmlsZQ%3D%3D?line=10'>11</a>\u001b[0m wcs \u001b[39m=\u001b[39m WCS(fits\u001b[39m.\u001b[39;49mopen(wcsFile)[\u001b[39m0\u001b[39m]\u001b[39m.\u001b[39mheader)\n\u001b[1;32m     <a href='vscode-notebook-cell:/home/daraghhollman/Main/CometsThesis/Python/fitsCropping.ipynb#W5sZmlsZQ%3D%3D?line=11'>12</a>\u001b[0m plt\u001b[39m.\u001b[39msubplot(projection\u001b[39m=\u001b[39mwcs)\n\u001b[1;32m     <a href='vscode-notebook-cell:/home/daraghhollman/Main/CometsThesis/Python/fitsCropping.ipynb#W5sZmlsZQ%3D%3D?line=13'>14</a>\u001b[0m plt\u001b[39m.\u001b[39mimshow(stackedImage, vmin\u001b[39m=\u001b[39m\u001b[39m40000\u001b[39m, vmax\u001b[39m=\u001b[39m\u001b[39m55000\u001b[39m, cmap\u001b[39m=\u001b[39m\u001b[39m\"\u001b[39m\u001b[39mmagma\u001b[39m\u001b[39m\"\u001b[39m, label\u001b[39m=\u001b[39m\u001b[39m\"\u001b[39m\u001b[39mCounts\u001b[39m\u001b[39m\"\u001b[39m)\n",
      "File \u001b[0;32m~/Main/CometsThesis/Python/cometPy/lib/python3.11/site-packages/astropy/io/fits/hdu/hdulist.py:222\u001b[0m, in \u001b[0;36mfitsopen\u001b[0;34m(name, mode, memmap, save_backup, cache, lazy_load_hdus, ignore_missing_simple, use_fsspec, fsspec_kwargs, decompress_in_memory, **kwargs)\u001b[0m\n\u001b[1;32m    219\u001b[0m \u001b[39mif\u001b[39;00m \u001b[39mnot\u001b[39;00m name:\n\u001b[1;32m    220\u001b[0m     \u001b[39mraise\u001b[39;00m \u001b[39mValueError\u001b[39;00m(\u001b[39mf\u001b[39m\u001b[39m\"\u001b[39m\u001b[39mEmpty filename: \u001b[39m\u001b[39m{\u001b[39;00mname\u001b[39m!r}\u001b[39;00m\u001b[39m\"\u001b[39m)\n\u001b[0;32m--> 222\u001b[0m \u001b[39mreturn\u001b[39;00m HDUList\u001b[39m.\u001b[39;49mfromfile(\n\u001b[1;32m    223\u001b[0m     name,\n\u001b[1;32m    224\u001b[0m     mode,\n\u001b[1;32m    225\u001b[0m     memmap,\n\u001b[1;32m    226\u001b[0m     save_backup,\n\u001b[1;32m    227\u001b[0m     cache,\n\u001b[1;32m    228\u001b[0m     lazy_load_hdus,\n\u001b[1;32m    229\u001b[0m     ignore_missing_simple,\n\u001b[1;32m    230\u001b[0m     use_fsspec\u001b[39m=\u001b[39;49muse_fsspec,\n\u001b[1;32m    231\u001b[0m     fsspec_kwargs\u001b[39m=\u001b[39;49mfsspec_kwargs,\n\u001b[1;32m    232\u001b[0m     decompress_in_memory\u001b[39m=\u001b[39;49mdecompress_in_memory,\n\u001b[1;32m    233\u001b[0m     \u001b[39m*\u001b[39;49m\u001b[39m*\u001b[39;49mkwargs,\n\u001b[1;32m    234\u001b[0m )\n",
      "File \u001b[0;32m~/Main/CometsThesis/Python/cometPy/lib/python3.11/site-packages/astropy/io/fits/hdu/hdulist.py:486\u001b[0m, in \u001b[0;36mHDUList.fromfile\u001b[0;34m(cls, fileobj, mode, memmap, save_backup, cache, lazy_load_hdus, ignore_missing_simple, **kwargs)\u001b[0m\n\u001b[1;32m    467\u001b[0m \u001b[39m@classmethod\u001b[39m\n\u001b[1;32m    468\u001b[0m \u001b[39mdef\u001b[39;00m \u001b[39mfromfile\u001b[39m(\n\u001b[1;32m    469\u001b[0m     \u001b[39mcls\u001b[39m,\n\u001b[0;32m   (...)\u001b[0m\n\u001b[1;32m    477\u001b[0m     \u001b[39m*\u001b[39m\u001b[39m*\u001b[39mkwargs,\n\u001b[1;32m    478\u001b[0m ):\n\u001b[1;32m    479\u001b[0m \u001b[39m    \u001b[39m\u001b[39m\"\"\"\u001b[39;00m\n\u001b[1;32m    480\u001b[0m \u001b[39m    Creates an `HDUList` instance from a file-like object.\u001b[39;00m\n\u001b[1;32m    481\u001b[0m \n\u001b[0;32m   (...)\u001b[0m\n\u001b[1;32m    484\u001b[0m \u001b[39m    documentation for details of the parameters accepted by this method).\u001b[39;00m\n\u001b[1;32m    485\u001b[0m \u001b[39m    \"\"\"\u001b[39;00m\n\u001b[0;32m--> 486\u001b[0m     \u001b[39mreturn\u001b[39;00m \u001b[39mcls\u001b[39;49m\u001b[39m.\u001b[39;49m_readfrom(\n\u001b[1;32m    487\u001b[0m         fileobj\u001b[39m=\u001b[39;49mfileobj,\n\u001b[1;32m    488\u001b[0m         mode\u001b[39m=\u001b[39;49mmode,\n\u001b[1;32m    489\u001b[0m         memmap\u001b[39m=\u001b[39;49mmemmap,\n\u001b[1;32m    490\u001b[0m         save_backup\u001b[39m=\u001b[39;49msave_backup,\n\u001b[1;32m    491\u001b[0m         cache\u001b[39m=\u001b[39;49mcache,\n\u001b[1;32m    492\u001b[0m         ignore_missing_simple\u001b[39m=\u001b[39;49mignore_missing_simple,\n\u001b[1;32m    493\u001b[0m         lazy_load_hdus\u001b[39m=\u001b[39;49mlazy_load_hdus,\n\u001b[1;32m    494\u001b[0m         \u001b[39m*\u001b[39;49m\u001b[39m*\u001b[39;49mkwargs,\n\u001b[1;32m    495\u001b[0m     )\n",
      "File \u001b[0;32m~/Main/CometsThesis/Python/cometPy/lib/python3.11/site-packages/astropy/io/fits/hdu/hdulist.py:1157\u001b[0m, in \u001b[0;36mHDUList._readfrom\u001b[0;34m(cls, fileobj, data, mode, memmap, cache, lazy_load_hdus, ignore_missing_simple, use_fsspec, fsspec_kwargs, decompress_in_memory, **kwargs)\u001b[0m\n\u001b[1;32m   1154\u001b[0m \u001b[39mif\u001b[39;00m fileobj \u001b[39mis\u001b[39;00m \u001b[39mnot\u001b[39;00m \u001b[39mNone\u001b[39;00m:\n\u001b[1;32m   1155\u001b[0m     \u001b[39mif\u001b[39;00m \u001b[39mnot\u001b[39;00m \u001b[39misinstance\u001b[39m(fileobj, _File):\n\u001b[1;32m   1156\u001b[0m         \u001b[39m# instantiate a FITS file object (ffo)\u001b[39;00m\n\u001b[0;32m-> 1157\u001b[0m         fileobj \u001b[39m=\u001b[39m _File(\n\u001b[1;32m   1158\u001b[0m             fileobj,\n\u001b[1;32m   1159\u001b[0m             mode\u001b[39m=\u001b[39;49mmode,\n\u001b[1;32m   1160\u001b[0m             memmap\u001b[39m=\u001b[39;49mmemmap,\n\u001b[1;32m   1161\u001b[0m             cache\u001b[39m=\u001b[39;49mcache,\n\u001b[1;32m   1162\u001b[0m             use_fsspec\u001b[39m=\u001b[39;49muse_fsspec,\n\u001b[1;32m   1163\u001b[0m             fsspec_kwargs\u001b[39m=\u001b[39;49mfsspec_kwargs,\n\u001b[1;32m   1164\u001b[0m             decompress_in_memory\u001b[39m=\u001b[39;49mdecompress_in_memory,\n\u001b[1;32m   1165\u001b[0m         )\n\u001b[1;32m   1166\u001b[0m     \u001b[39m# The Astropy mode is determined by the _File initializer if the\u001b[39;00m\n\u001b[1;32m   1167\u001b[0m     \u001b[39m# supplied mode was None\u001b[39;00m\n\u001b[1;32m   1168\u001b[0m     mode \u001b[39m=\u001b[39m fileobj\u001b[39m.\u001b[39mmode\n",
      "File \u001b[0;32m~/Main/CometsThesis/Python/cometPy/lib/python3.11/site-packages/astropy/io/fits/file.py:218\u001b[0m, in \u001b[0;36m_File.__init__\u001b[0;34m(self, fileobj, mode, memmap, overwrite, cache, use_fsspec, fsspec_kwargs, decompress_in_memory)\u001b[0m\n\u001b[1;32m    216\u001b[0m     \u001b[39mself\u001b[39m\u001b[39m.\u001b[39m_open_fileobj(fileobj, mode, overwrite)\n\u001b[1;32m    217\u001b[0m \u001b[39melif\u001b[39;00m \u001b[39misinstance\u001b[39m(fileobj, (\u001b[39mstr\u001b[39m, \u001b[39mbytes\u001b[39m)):\n\u001b[0;32m--> 218\u001b[0m     \u001b[39mself\u001b[39;49m\u001b[39m.\u001b[39;49m_open_filename(fileobj, mode, overwrite)\n\u001b[1;32m    219\u001b[0m \u001b[39melse\u001b[39;00m:\n\u001b[1;32m    220\u001b[0m     \u001b[39mself\u001b[39m\u001b[39m.\u001b[39m_open_filelike(fileobj, mode, overwrite)\n",
      "File \u001b[0;32m~/Main/CometsThesis/Python/cometPy/lib/python3.11/site-packages/astropy/io/fits/file.py:641\u001b[0m, in \u001b[0;36m_File._open_filename\u001b[0;34m(self, filename, mode, overwrite)\u001b[0m\n\u001b[1;32m    638\u001b[0m ext \u001b[39m=\u001b[39m os\u001b[39m.\u001b[39mpath\u001b[39m.\u001b[39msplitext(\u001b[39mself\u001b[39m\u001b[39m.\u001b[39mname)[\u001b[39m1\u001b[39m]\n\u001b[1;32m    640\u001b[0m \u001b[39mif\u001b[39;00m \u001b[39mnot\u001b[39;00m \u001b[39mself\u001b[39m\u001b[39m.\u001b[39m_try_read_compressed(\u001b[39mself\u001b[39m\u001b[39m.\u001b[39mname, magic, mode, ext\u001b[39m=\u001b[39mext):\n\u001b[0;32m--> 641\u001b[0m     \u001b[39mself\u001b[39m\u001b[39m.\u001b[39m_file \u001b[39m=\u001b[39m \u001b[39mopen\u001b[39m(\u001b[39mself\u001b[39m\u001b[39m.\u001b[39mname, IO_FITS_MODES[mode])\n\u001b[1;32m    642\u001b[0m     \u001b[39mself\u001b[39m\u001b[39m.\u001b[39mclose_on_error \u001b[39m=\u001b[39m \u001b[39mTrue\u001b[39;00m\n\u001b[1;32m    644\u001b[0m \u001b[39m# Make certain we're back at the beginning of the file\u001b[39;00m\n\u001b[1;32m    645\u001b[0m \u001b[39m# BZ2File does not support seek when the file is open for writing, but\u001b[39;00m\n\u001b[1;32m    646\u001b[0m \u001b[39m# when opening a file for write, bz2.BZ2File always truncates anyway.\u001b[39;00m\n",
      "\u001b[0;31mFileNotFoundError\u001b[0m: [Errno 2] No such file or directory: '/home/daraghhollman/Main/CometsThesis/Comet 2019/wcs.fits'"
     ]
    }
   ],
   "source": [
    "stackedImage = np.zeros(np.shape(fits.open(croppedImages[0])[0].data))\n",
    "\n",
    "for path in croppedImages:\n",
    "    fitsFile = fits.open(path)\n",
    "\n",
    "    image = fitsFile[0].data\n",
    "\n",
    "    stackedImage += image\n",
    "\n",
    "wcsFile = rootPath + \"Comet 2019/wcs.fits\"\n",
    "wcs = WCS(fits.open(wcsFile)[0].header)\n",
    "plt.subplot(projection=wcs)\n",
    "\n",
    "plt.imshow(stackedImage, vmin=40000, vmax=55000, cmap=\"magma\", label=\"Counts\")\n",
    "plt.colorbar(label=\"Counts\")\n",
    "plt.title(\"Stacked Image 2019-03-09\")\n",
    "plt.xlabel(\"Right Ascension\")\n",
    "plt.ylabel(\"Declination\")\n",
    "plt.gca().invert_yaxis()"
   ]
  },
  {
   "cell_type": "markdown",
   "metadata": {},
   "source": [
    "# Photutils -> Source Detection"
   ]
  }
 ],
 "metadata": {
  "kernelspec": {
   "display_name": "cometPy",
   "language": "python",
   "name": "python3"
  },
  "language_info": {
   "codemirror_mode": {
    "name": "ipython",
    "version": 3
   },
   "file_extension": ".py",
   "mimetype": "text/x-python",
   "name": "python",
   "nbconvert_exporter": "python",
   "pygments_lexer": "ipython3",
   "version": "3.11.6"
  }
 },
 "nbformat": 4,
 "nbformat_minor": 2
}
